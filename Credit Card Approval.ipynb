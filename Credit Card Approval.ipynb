{
 "cells": [
  {
   "cell_type": "code",
   "execution_count": 2,
   "metadata": {},
   "outputs": [
    {
     "name": "stdout",
     "output_type": "stream",
     "text": [
      "  0      1      2  3  4  5  6     7  8  9   10 11 12     13   14 15\n",
      "0  b  30.83  0.000  u  g  w  v  1.25  t  t   1  f  g  202.0    0  +\n",
      "1  a  58.67  4.460  u  g  q  h  3.04  t  t   6  f  g   43.0  560  +\n",
      "2  a  24.50  0.500  u  g  q  h  1.50  t  f   0  f  g  280.0  824  +\n",
      "3  b  27.83  1.540  u  g  w  v  3.75  t  t   5  t  g  100.0    3  +\n",
      "4  b  20.17  5.625  u  g  w  v  1.71  t  f   0  f  s  120.0    0  +\n"
     ]
    }
   ],
   "source": [
    "import pandas as pd\n",
    "\n",
    "cc_apps = pd.read_csv('credit_approval.csv', header=None)\n",
    "\n",
    "print(cc_apps.head())"
   ]
  },
  {
   "cell_type": "code",
   "execution_count": 5,
   "metadata": {},
   "outputs": [
    {
     "name": "stdout",
     "output_type": "stream",
     "text": [
      "               1           2           7          10           13  \\\n",
      "count  678.000000  690.000000  690.000000  690.00000   677.000000   \n",
      "mean    31.568171    4.758725    2.223406    2.40000   184.014771   \n",
      "std     11.957862    4.978163    3.346513    4.86294   173.806768   \n",
      "min     13.750000    0.000000    0.000000    0.00000     0.000000   \n",
      "25%     22.602500    1.000000    0.165000    0.00000    75.000000   \n",
      "50%     28.460000    2.750000    1.000000    0.00000   160.000000   \n",
      "75%     38.230000    7.207500    2.625000    3.00000   276.000000   \n",
      "max     80.250000   28.000000   28.500000   67.00000  2000.000000   \n",
      "\n",
      "                  14  \n",
      "count     690.000000  \n",
      "mean     1017.385507  \n",
      "std      5210.102598  \n",
      "min         0.000000  \n",
      "25%         0.000000  \n",
      "50%         5.000000  \n",
      "75%       395.500000  \n",
      "max    100000.000000  \n",
      "\n",
      "\n",
      "<class 'pandas.core.frame.DataFrame'>\n",
      "RangeIndex: 690 entries, 0 to 689\n",
      "Data columns (total 16 columns):\n",
      " #   Column  Non-Null Count  Dtype  \n",
      "---  ------  --------------  -----  \n",
      " 0   0       678 non-null    object \n",
      " 1   1       678 non-null    float64\n",
      " 2   2       690 non-null    float64\n",
      " 3   3       684 non-null    object \n",
      " 4   4       684 non-null    object \n",
      " 5   5       681 non-null    object \n",
      " 6   6       681 non-null    object \n",
      " 7   7       690 non-null    float64\n",
      " 8   8       690 non-null    object \n",
      " 9   9       690 non-null    object \n",
      " 10  10      690 non-null    int64  \n",
      " 11  11      690 non-null    object \n",
      " 12  12      690 non-null    object \n",
      " 13  13      677 non-null    float64\n",
      " 14  14      690 non-null    int64  \n",
      " 15  15      690 non-null    object \n",
      "dtypes: float64(4), int64(2), object(10)\n",
      "memory usage: 86.4+ KB\n",
      "None\n",
      "\n",
      "\n",
      "      0      1       2  3  4   5   6      7  8  9   10 11 12     13   14 15\n",
      "673  NaN  29.50   2.000  y  p   e   h  2.000  f  f   0  f  g  256.0   17  -\n",
      "674    a  37.33   2.500  u  g   i   h  0.210  f  f   0  f  g  260.0  246  -\n",
      "675    a  41.58   1.040  u  g  aa   v  0.665  f  f   0  f  g  240.0  237  -\n",
      "676    a  30.58  10.665  u  g   q   h  0.085  f  t  12  t  g  129.0    3  -\n",
      "677    b  19.42   7.250  u  g   m   v  0.040  f  t   1  f  g  100.0    1  -\n",
      "678    a  17.92  10.210  u  g  ff  ff  0.000  f  f   0  f  g    0.0   50  -\n",
      "679    a  20.08   1.250  u  g   c   v  0.000  f  f   0  f  g    0.0    0  -\n",
      "680    b  19.50   0.290  u  g   k   v  0.290  f  f   0  f  g  280.0  364  -\n",
      "681    b  27.83   1.000  y  p   d   h  3.000  f  f   0  f  g  176.0  537  -\n",
      "682    b  17.08   3.290  u  g   i   v  0.335  f  f   0  t  g  140.0    2  -\n",
      "683    b  36.42   0.750  y  p   d   v  0.585  f  f   0  f  g  240.0    3  -\n",
      "684    b  40.58   3.290  u  g   m   v  3.500  f  f   0  t  s  400.0    0  -\n",
      "685    b  21.08  10.085  y  p   e   h  1.250  f  f   0  f  g  260.0    0  -\n",
      "686    a  22.67   0.750  u  g   c   v  2.000  f  t   2  t  g  200.0  394  -\n",
      "687    a  25.25  13.500  y  p  ff  ff  2.000  f  t   1  t  g  200.0    1  -\n",
      "688    b  17.92   0.205  u  g  aa   v  0.040  f  f   0  f  g  280.0  750  -\n",
      "689    b  35.00   3.375  u  g   c   h  8.290  f  f   0  t  g    0.0    0  -\n"
     ]
    }
   ],
   "source": [
    "cc_apps_description = cc_apps.describe()\n",
    "print (cc_apps_description)\n",
    "print(\"\\n\")\n",
    "\n",
    "\n",
    "cc_apps_info = cc_apps.info() \n",
    "print (cc_apps_info)\n",
    "\n",
    "print(\"\\n\")\n",
    "\n",
    "\n",
    "print (cc_apps.tail(17))"
   ]
  },
  {
   "cell_type": "code",
   "execution_count": 6,
   "metadata": {},
   "outputs": [
    {
     "name": "stdout",
     "output_type": "stream",
     "text": [
      "      0      1       2  3  4   5   6      7  8  9   10 11 12     13   14 15\n",
      "673  NaN  29.50   2.000  y  p   e   h  2.000  f  f   0  f  g  256.0   17  -\n",
      "674    a  37.33   2.500  u  g   i   h  0.210  f  f   0  f  g  260.0  246  -\n",
      "675    a  41.58   1.040  u  g  aa   v  0.665  f  f   0  f  g  240.0  237  -\n",
      "676    a  30.58  10.665  u  g   q   h  0.085  f  t  12  t  g  129.0    3  -\n",
      "677    b  19.42   7.250  u  g   m   v  0.040  f  t   1  f  g  100.0    1  -\n",
      "678    a  17.92  10.210  u  g  ff  ff  0.000  f  f   0  f  g    0.0   50  -\n",
      "679    a  20.08   1.250  u  g   c   v  0.000  f  f   0  f  g    0.0    0  -\n",
      "680    b  19.50   0.290  u  g   k   v  0.290  f  f   0  f  g  280.0  364  -\n",
      "681    b  27.83   1.000  y  p   d   h  3.000  f  f   0  f  g  176.0  537  -\n",
      "682    b  17.08   3.290  u  g   i   v  0.335  f  f   0  t  g  140.0    2  -\n",
      "683    b  36.42   0.750  y  p   d   v  0.585  f  f   0  f  g  240.0    3  -\n",
      "684    b  40.58   3.290  u  g   m   v  3.500  f  f   0  t  s  400.0    0  -\n",
      "685    b  21.08  10.085  y  p   e   h  1.250  f  f   0  f  g  260.0    0  -\n",
      "686    a  22.67   0.750  u  g   c   v  2.000  f  t   2  t  g  200.0  394  -\n",
      "687    a  25.25  13.500  y  p  ff  ff  2.000  f  t   1  t  g  200.0    1  -\n",
      "688    b  17.92   0.205  u  g  aa   v  0.040  f  f   0  f  g  280.0  750  -\n",
      "689    b  35.00   3.375  u  g   c   h  8.290  f  f   0  t  g    0.0    0  -\n",
      "      0      1       2  3  4   5   6      7  8  9   10 11 12     13   14 15\n",
      "673  NaN  29.50   2.000  y  p   e   h  2.000  f  f   0  f  g  256.0   17  -\n",
      "674    a  37.33   2.500  u  g   i   h  0.210  f  f   0  f  g  260.0  246  -\n",
      "675    a  41.58   1.040  u  g  aa   v  0.665  f  f   0  f  g  240.0  237  -\n",
      "676    a  30.58  10.665  u  g   q   h  0.085  f  t  12  t  g  129.0    3  -\n",
      "677    b  19.42   7.250  u  g   m   v  0.040  f  t   1  f  g  100.0    1  -\n",
      "678    a  17.92  10.210  u  g  ff  ff  0.000  f  f   0  f  g    0.0   50  -\n",
      "679    a  20.08   1.250  u  g   c   v  0.000  f  f   0  f  g    0.0    0  -\n",
      "680    b  19.50   0.290  u  g   k   v  0.290  f  f   0  f  g  280.0  364  -\n",
      "681    b  27.83   1.000  y  p   d   h  3.000  f  f   0  f  g  176.0  537  -\n",
      "682    b  17.08   3.290  u  g   i   v  0.335  f  f   0  t  g  140.0    2  -\n",
      "683    b  36.42   0.750  y  p   d   v  0.585  f  f   0  f  g  240.0    3  -\n",
      "684    b  40.58   3.290  u  g   m   v  3.500  f  f   0  t  s  400.0    0  -\n",
      "685    b  21.08  10.085  y  p   e   h  1.250  f  f   0  f  g  260.0    0  -\n",
      "686    a  22.67   0.750  u  g   c   v  2.000  f  t   2  t  g  200.0  394  -\n",
      "687    a  25.25  13.500  y  p  ff  ff  2.000  f  t   1  t  g  200.0    1  -\n",
      "688    b  17.92   0.205  u  g  aa   v  0.040  f  f   0  f  g  280.0  750  -\n",
      "689    b  35.00   3.375  u  g   c   h  8.290  f  f   0  t  g    0.0    0  -\n"
     ]
    }
   ],
   "source": [
    "import numpy as np\n",
    "\n",
    "# Inspect missing values in the dataset \n",
    "print(cc_apps.tail(17))\n",
    "\n",
    "# Replace the '?'s with NaN \n",
    "cc_apps = cc_apps.replace('?', np.nan)\n",
    "\n",
    "#Inspect the missing values again \n",
    "print (cc_apps.tail(17))"
   ]
  },
  {
   "cell_type": "code",
   "execution_count": 7,
   "metadata": {},
   "outputs": [
    {
     "data": {
      "text/plain": [
       "0     12\n",
       "1      0\n",
       "2      0\n",
       "3      6\n",
       "4      6\n",
       "5      9\n",
       "6      9\n",
       "7      0\n",
       "8      0\n",
       "9      0\n",
       "10     0\n",
       "11     0\n",
       "12     0\n",
       "13     0\n",
       "14     0\n",
       "15     0\n",
       "dtype: int64"
      ]
     },
     "execution_count": 7,
     "metadata": {},
     "output_type": "execute_result"
    }
   ],
   "source": [
    "cc_apps.fillna ( cc_apps.mean(), inplace=True)\n",
    "\n",
    "# Count the number of NaNs in the dataset to verify \n",
    "cc_apps.isnull().sum()"
   ]
  },
  {
   "cell_type": "code",
   "execution_count": 8,
   "metadata": {},
   "outputs": [
    {
     "name": "stdout",
     "output_type": "stream",
     "text": [
      "        0      1      2      3      4      5      6      7      8      9   \\\n",
      "0    False  False  False  False  False  False  False  False  False  False   \n",
      "1    False  False  False  False  False  False  False  False  False  False   \n",
      "2    False  False  False  False  False  False  False  False  False  False   \n",
      "3    False  False  False  False  False  False  False  False  False  False   \n",
      "4    False  False  False  False  False  False  False  False  False  False   \n",
      "..     ...    ...    ...    ...    ...    ...    ...    ...    ...    ...   \n",
      "685  False  False  False  False  False  False  False  False  False  False   \n",
      "686  False  False  False  False  False  False  False  False  False  False   \n",
      "687  False  False  False  False  False  False  False  False  False  False   \n",
      "688  False  False  False  False  False  False  False  False  False  False   \n",
      "689  False  False  False  False  False  False  False  False  False  False   \n",
      "\n",
      "        10     11     12     13     14     15  \n",
      "0    False  False  False  False  False  False  \n",
      "1    False  False  False  False  False  False  \n",
      "2    False  False  False  False  False  False  \n",
      "3    False  False  False  False  False  False  \n",
      "4    False  False  False  False  False  False  \n",
      "..     ...    ...    ...    ...    ...    ...  \n",
      "685  False  False  False  False  False  False  \n",
      "686  False  False  False  False  False  False  \n",
      "687  False  False  False  False  False  False  \n",
      "688  False  False  False  False  False  False  \n",
      "689  False  False  False  False  False  False  \n",
      "\n",
      "[690 rows x 16 columns]\n"
     ]
    }
   ],
   "source": [
    "for col in cc_apps:\n",
    "    if cc_apps [col].dtype == 'object':\n",
    "        cc_apps = cc_apps.fillna (cc_apps [col].value_counts().index[0])\n",
    "\n",
    "print (cc_apps.isna())"
   ]
  },
  {
   "cell_type": "code",
   "execution_count": 13,
   "metadata": {},
   "outputs": [],
   "source": [
    "from sklearn.preprocessing import LabelEncoder\n",
    "\n",
    "# Instantiate LabelEncoder\n",
    "\n",
    "le=LabelEncoder()\n",
    "\n",
    "# Iterate over all the values of each column and extract their dtypes \n",
    "for col in cc_apps:\n",
    "    if cc_apps[col].dtype== 'object':\n",
    "        cc_apps[col]=le.fit_transform(cc_apps [col])"
   ]
  },
  {
   "cell_type": "code",
   "execution_count": 14,
   "metadata": {},
   "outputs": [],
   "source": [
    "from sklearn.model_selection import train_test_split\n",
    "\n",
    "cc_apps = cc_apps.drop([11, 13], axis=1)\n",
    "cc_apps = cc_apps.values\n",
    "\n",
    "X, y = cc_apps [:,0:13], cc_apps [:, -1]\n",
    "\n",
    "X_train, X_test, y_train, y_test = train_test_split(X,y,test_size=0.3,random_state=42)\n"
   ]
  },
  {
   "cell_type": "code",
   "execution_count": 15,
   "metadata": {},
   "outputs": [],
   "source": [
    "from sklearn.preprocessing import MinMaxScaler\n",
    "\n",
    "\n",
    "scaler = MinMaxScaler(feature_range=(0, 1)) \n",
    "rescaledX_train = scaler.fit_transform(X_train) \n",
    "rescaledX_test = scaler.fit_transform(X_test)"
   ]
  },
  {
   "cell_type": "code",
   "execution_count": 19,
   "metadata": {},
   "outputs": [
    {
     "data": {
      "text/plain": [
       "LogisticRegression()"
      ]
     },
     "execution_count": 19,
     "metadata": {},
     "output_type": "execute_result"
    }
   ],
   "source": [
    "from sklearn.linear_model import LogisticRegression\n",
    "\n",
    "logreg=LogisticRegression()\n",
    "\n",
    "logreg.fit(rescaledX_train, y_train)"
   ]
  },
  {
   "cell_type": "code",
   "execution_count": 21,
   "metadata": {},
   "outputs": [
    {
     "name": "stdout",
     "output_type": "stream",
     "text": [
      "Accuracy of logistic regression classifier:  0.8357487922705314\n",
      "[[86 11]\n",
      " [23 87]]\n"
     ]
    }
   ],
   "source": [
    "from sklearn.metrics import confusion_matrix\n",
    "\n",
    "# Use logreg to predict instances from the test set and store it \n",
    "y_pred = logreg.predict(rescaledX_test)\n",
    "\n",
    "# Get the accuracy score of logreg model and print it \n",
    "print(\"Accuracy of logistic regression classifier: \", logreg.score(rescaledX_test, y_test))\n",
    "\n",
    "# Print the confusion matrix of the logreg model \n",
    "print(confusion_matrix(y_test, y_pred))"
   ]
  },
  {
   "cell_type": "code",
   "execution_count": 23,
   "metadata": {},
   "outputs": [],
   "source": [
    "from sklearn.model_selection import GridSearchCV\n",
    "\n",
    "# Define the grid of values for tol and max_iter \n",
    "tol = [0.01, 0.001, 0.0001] \n",
    "max_iter = [100, 150, 200]\n",
    "\n",
    "# Create a dictionary where tol and max_iter are keys and the lists of \n",
    "param_grid = dict(tol =tol,max_iter = max_iter)"
   ]
  },
  {
   "cell_type": "code",
   "execution_count": 25,
   "metadata": {},
   "outputs": [
    {
     "name": "stdout",
     "output_type": "stream",
     "text": [
      "Best: 0.850725 using {'max_iter': 100, 'tol': 0.01}\n"
     ]
    }
   ],
   "source": [
    "grid_model = GridSearchCV (estimator=logreg, param_grid= param_grid, cv=5)\n",
    "\n",
    "# Use scaler to rescale X and assign it to rescaledX \n",
    "rescaledX = scaler.fit_transform(X)\n",
    "\n",
    "# Fit data to grid_model\n",
    "\n",
    "grid_model_result = grid_model.fit(rescaledX, y)\n",
    "\n",
    "# Summarize results\n",
    "\n",
    "best_score, best_params = grid_model_result.best_score_, grid_model_result.best_params_ \n",
    "print(\"Best: %f using %s\" % (grid_model_result.best_score_, grid_model_result.best_params_))"
   ]
  }
 ],
 "metadata": {
  "kernelspec": {
   "display_name": "Python 3",
   "language": "python",
   "name": "python3"
  },
  "language_info": {
   "codemirror_mode": {
    "name": "ipython",
    "version": 3
   },
   "file_extension": ".py",
   "mimetype": "text/x-python",
   "name": "python",
   "nbconvert_exporter": "python",
   "pygments_lexer": "ipython3",
   "version": "3.8.3"
  }
 },
 "nbformat": 4,
 "nbformat_minor": 4
}
